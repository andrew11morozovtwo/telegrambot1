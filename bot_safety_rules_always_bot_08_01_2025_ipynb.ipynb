{
  "cells": [
    {
      "cell_type": "markdown",
      "metadata": {
        "id": "view-in-github",
        "colab_type": "text"
      },
      "source": [
        "<a href=\"https://colab.research.google.com/github/andrew11morozovtwo/telegrambot1/blob/main/bot_safety_rules_always_bot_08_01_2025_ipynb.ipynb\" target=\"_parent\"><img src=\"https://colab.research.google.com/assets/colab-badge.svg\" alt=\"Open In Colab\"/></a>"
      ]
    },
    {
      "cell_type": "code",
      "source": [
        "from google.colab import drive\n",
        "drive.mount('/content/gdrive')\n"
      ],
      "metadata": {
        "colab": {
          "base_uri": "https://localhost:8080/"
        },
        "id": "1YvzghQh8bIj",
        "outputId": "2887c19e-a7da-4a40-9a50-eccc9f9a30f0"
      },
      "execution_count": null,
      "outputs": [
        {
          "output_type": "stream",
          "name": "stdout",
          "text": [
            "Mounted at /content/gdrive\n"
          ]
        }
      ]
    },
    {
      "cell_type": "code",
      "execution_count": null,
      "metadata": {
        "id": "Am1H4bR2fCwH"
      },
      "outputs": [],
      "source": [
        "# pip install pyTelegramBotAPI\n",
        "\n",
        "# pip install openai\n",
        "import telebot\n",
        "import logging\n",
        "from openai import OpenAI\n",
        "\n",
        "import csv\n",
        "from datetime import datetime\n",
        "import os\n",
        "\n",
        "# Настройка логирования\n",
        "logging.basicConfig(level=logging.INFO)\n",
        "\n",
        "# Замените 'YOUR_API_TOKEN' на ваш токен Telegram\n",
        "API_TOKEN = 'YOUR_API_TOKEN'\n",
        "bot = telebot.TeleBot(API_TOKEN)\n",
        "\n",
        "# Настройка OpenAI\n",
        "client = OpenAI(\n",
        "    api_key=\"_\",\n",
        "    base_url=\"https://api.proxyapi.ru/openai/v1\",\n",
        ")\n",
        "\n",
        "# Путь к файлу на Google Диске\n",
        "file_path = '/content/gdrive/MyDrive/telegram_bot_logs.csv'\n",
        "\n",
        "# Словарь для хранения истории разговора\n",
        "conversation_history = {}\n",
        "\n",
        "# Команда /start\n",
        "@bot.message_handler(commands=['start'])\n",
        "def send_welcome(message):\n",
        "    chat_id = message.chat.id\n",
        "    # Инициализация истории разговора для нового чата\n",
        "    if chat_id not in conversation_history:\n",
        "        conversation_history[chat_id] = []\n",
        "    bot.reply_to(message, \"Добро пожаловать в канал 'Безопасность всегда'! Как я могу помочь? Бот версии 05_01_2025 г\")\n",
        "\n",
        "# Обработка текстовых сообщений\n",
        "@bot.message_handler(content_types=['text'])\n",
        "def handle_text_message(message):\n",
        "    chat_id = message.chat.id\n",
        "    user_message = message.text\n",
        "    message_type = 'text'\n",
        "    process_message(message, user_message, message_type, chat_id)\n",
        "\n",
        "# Обработка сообщений с фотографиями\n",
        "@bot.message_handler(content_types=['photo'])\n",
        "def handle_photo_message(message):\n",
        "    chat_id = message.chat.id\n",
        "    user_message = message.caption if message.caption else \"Фото без подписи\"\n",
        "    message_type = 'photo'\n",
        "    process_message(message, user_message, message_type, chat_id)\n",
        "\n",
        "# Обработка сообщений с видео\n",
        "@bot.message_handler(content_types=['video'])\n",
        "def handle_video_message(message):\n",
        "    chat_id = message.chat.id\n",
        "    user_message = message.caption if message.caption else \"Видео без подписи\"\n",
        "    message_type = 'video'\n",
        "    process_message(message, user_message, message_type, chat_id)\n",
        "\n",
        "# Обработка голосовых сообщений\n",
        "@bot.message_handler(content_types=['voice'])\n",
        "def handle_voice_message(message):\n",
        "    chat_id = message.chat.id\n",
        "    user_message = \"Голосовое сообщение без текста\"\n",
        "    message_type = 'voice'\n",
        "    process_message(message, user_message, message_type, chat_id)\n",
        "\n",
        "# Обработка аудио сообщений\n",
        "@bot.message_handler(content_types=['audio'])\n",
        "def handle_audio_message(message):\n",
        "    chat_id = message.chat.id\n",
        "    user_message = \"Аудио сообщение без текста\"\n",
        "    message_type = 'audio'\n",
        "    process_message(message, user_message, message_type, chat_id)\n",
        "\n",
        "# Обработка опросов\n",
        "@bot.message_handler(content_types=['poll'])\n",
        "def handle_poll_message(message):\n",
        "    chat_id = message.chat.id\n",
        "    user_message = f\"Опрос: {message.poll.question}\"\n",
        "    message_type = 'poll'\n",
        "    process_message(message, user_message, message_type, chat_id)\n",
        "\n",
        "# Функция для инициализации файла (создаем файл и пишем заголовки, если он не существует)\n",
        "def initialize_log_file():\n",
        "    if not os.path.exists(file_path):\n",
        "        with open(file_path, 'w', newline='', encoding='utf-8') as file:\n",
        "            writer = csv.writer(file)\n",
        "            writer.writerow(['chat_id', 'datetime', 'message', 'user_message', 'message_type', 'ai_response'])\n",
        "\n",
        "# Функция для записи данных в файл\n",
        "def log_to_file(chat_id, user_message, message_type, ai_response):\n",
        "    current_time = datetime.now().strftime('%Y-%m-%d %H:%M:%S')  # Текущее время\n",
        "    with open(file_path, 'a', newline='', encoding='utf-8') as file:\n",
        "        writer = csv.writer(file)\n",
        "        writer.writerow([chat_id, current_time, user_message, user_message, message_type, ai_response])\n",
        "\n",
        "\n",
        "# Общая функция для обработки сообщений\n",
        "def process_message(message, user_message, message_type, chat_id):\n",
        "    # Проверяем, существует ли история для данного chat_id\n",
        "    if chat_id not in conversation_history:\n",
        "        conversation_history[chat_id] = []\n",
        "\n",
        "    # Добавляем сообщение пользователя в историю разговора\n",
        "    conversation_history[chat_id].append({\"role\": \"user\", \"content\": user_message})\n",
        "    logging.info(f\"Получено сообщение от пользователя: {user_message} (Тип: {message_type})\")\n",
        "\n",
        "    # Запрос к OpenAI с историей разговора\n",
        "    try:\n",
        "        chat_completion = client.chat.completions.create(\n",
        "            model=\"gpt-3.5-turbo-1106\",\n",
        "            messages=conversation_history[chat_id] + [\n",
        "                {\"role\": \"system\", \"content\": \"Вы бот-администратор в телеграмм-канале 'Безопасность всегда'. Ваша задача — обеспечивать безопасность подписчиков через информирование о правилах поведения. Каждый день мы публикуем важные напоминания. Комментируя посты, общайтесь с читателями от мужского лица на 'Вы', учитывая контекст каждого поста и комментарии пользователей. Включайте эмодзи в ваши ответы, чтобы сделать их более привлекательными и выразительными, добавляя полезные советы и интересные факты.\"},\n",
        "                {\"role\": \"user\", \"content\": f\"В телеграмм-канале 'Безопасность всегда' опубликован пост: '{user_message}' (Тип: {message_type}). Напиши увлекательный комментарий к этому посту, подчеркивающий важность правил безопасности. Включи три дополнительных правила безопасности по тематике поста, разделенных на абзацы. Используй много эмодзи для привлечения внимания!\"}\n",
        "            ]\n",
        "        )\n",
        "        # Получаем ответ от AI\n",
        "        ai_response = chat_completion.choices[0].message.content\n",
        "        bot.reply_to(message, ai_response)\n",
        "\n",
        "        # Логирование данных в файл\n",
        "        log_to_file(chat_id, user_message, message_type, ai_response)\n",
        "\n",
        "        # Добавляем ответ AI в историю разговора\n",
        "        conversation_history[chat_id].append({\"role\": \"assistant\", \"content\": ai_response})\n",
        "    except Exception as e:\n",
        "        logging.error(f\"Ошибка при обращении к OpenAI: {e}\")\n",
        "        bot.reply_to(message, \"Извините, произошла ошибка при обработке вашего запроса.\")\n",
        "\n",
        "# Запуск бота\n",
        "if __name__ == '__main__':\n",
        "    initialize_log_file()  # Инициализация файла логов\n",
        "    bot.polling(none_stop=True)\n",
        "\n"
      ]
    },
    {
      "cell_type": "code",
      "source": [],
      "metadata": {
        "id": "80Yv4VSE-6wI"
      },
      "execution_count": null,
      "outputs": []
    }
  ],
  "metadata": {
    "colab": {
      "provenance": [],
      "include_colab_link": true
    },
    "kernelspec": {
      "display_name": "Python 3",
      "name": "python3"
    },
    "language_info": {
      "name": "python"
    }
  },
  "nbformat": 4,
  "nbformat_minor": 0
}